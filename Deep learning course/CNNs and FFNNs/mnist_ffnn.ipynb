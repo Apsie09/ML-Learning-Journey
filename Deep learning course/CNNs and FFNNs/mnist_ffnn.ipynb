{
 "cells": [
  {
   "cell_type": "markdown",
   "metadata": {},
   "source": [
    "### MNIST dataset -   Fully Connected Feedforward Neural Network "
   ]
  },
  {
   "cell_type": "markdown",
   "metadata": {},
   "source": [
    "Recognition of Hand Written Digits from MNIST dataset\n",
    "\n",
    "Inputs: images of 28 x 28 pixels; \n",
    "\n",
    "Output: class representing the digit (10 classes, digits 0-9);\n",
    "\n",
    "60k images for training;  10k images for test\n",
    "\n",
    "To run this example you need to install tensorflow (e.g pip install tensorflow)\n",
    "\n",
    "\n",
    "<img src=\"images/f1.png\" style=\"width:350px;height:250px;\">\n",
    "<caption><center> Fig. 1: Examples from MNIST handwritten digit dataset </center></caption>"
   ]
  },
  {
   "cell_type": "markdown",
   "metadata": {},
   "source": [
    "### Load the dataset"
   ]
  },
  {
   "cell_type": "code",
   "execution_count": 9,
   "metadata": {},
   "outputs": [
    {
     "name": "stdout",
     "output_type": "stream",
     "text": [
      "Requirement already satisfied: tensorflow in d:\\anaconda\\lib\\site-packages (2.18.0)\n",
      "Requirement already satisfied: tensorflow-intel==2.18.0 in d:\\anaconda\\lib\\site-packages (from tensorflow) (2.18.0)\n",
      "Requirement already satisfied: absl-py>=1.0.0 in d:\\anaconda\\lib\\site-packages (from tensorflow-intel==2.18.0->tensorflow) (2.1.0)\n",
      "Requirement already satisfied: astunparse>=1.6.0 in d:\\anaconda\\lib\\site-packages (from tensorflow-intel==2.18.0->tensorflow) (1.6.3)\n",
      "Requirement already satisfied: flatbuffers>=24.3.25 in d:\\anaconda\\lib\\site-packages (from tensorflow-intel==2.18.0->tensorflow) (25.1.24)\n",
      "Requirement already satisfied: gast!=0.5.0,!=0.5.1,!=0.5.2,>=0.2.1 in d:\\anaconda\\lib\\site-packages (from tensorflow-intel==2.18.0->tensorflow) (0.6.0)\n",
      "Requirement already satisfied: google-pasta>=0.1.1 in d:\\anaconda\\lib\\site-packages (from tensorflow-intel==2.18.0->tensorflow) (0.2.0)\n",
      "Requirement already satisfied: libclang>=13.0.0 in d:\\anaconda\\lib\\site-packages (from tensorflow-intel==2.18.0->tensorflow) (18.1.1)\n",
      "Requirement already satisfied: opt-einsum>=2.3.2 in d:\\anaconda\\lib\\site-packages (from tensorflow-intel==2.18.0->tensorflow) (3.4.0)\n",
      "Requirement already satisfied: packaging in d:\\anaconda\\lib\\site-packages (from tensorflow-intel==2.18.0->tensorflow) (23.2)\n",
      "Requirement already satisfied: protobuf!=4.21.0,!=4.21.1,!=4.21.2,!=4.21.3,!=4.21.4,!=4.21.5,<6.0.0dev,>=3.20.3 in d:\\anaconda\\lib\\site-packages (from tensorflow-intel==2.18.0->tensorflow) (3.20.3)\n",
      "Requirement already satisfied: requests<3,>=2.21.0 in d:\\anaconda\\lib\\site-packages (from tensorflow-intel==2.18.0->tensorflow) (2.32.2)\n",
      "Requirement already satisfied: setuptools in d:\\anaconda\\lib\\site-packages (from tensorflow-intel==2.18.0->tensorflow) (69.5.1)\n",
      "Requirement already satisfied: six>=1.12.0 in d:\\anaconda\\lib\\site-packages (from tensorflow-intel==2.18.0->tensorflow) (1.16.0)\n",
      "Requirement already satisfied: termcolor>=1.1.0 in d:\\anaconda\\lib\\site-packages (from tensorflow-intel==2.18.0->tensorflow) (2.5.0)\n",
      "Requirement already satisfied: typing-extensions>=3.6.6 in d:\\anaconda\\lib\\site-packages (from tensorflow-intel==2.18.0->tensorflow) (4.12.2)\n",
      "Requirement already satisfied: wrapt>=1.11.0 in d:\\anaconda\\lib\\site-packages (from tensorflow-intel==2.18.0->tensorflow) (1.14.1)\n",
      "Requirement already satisfied: grpcio<2.0,>=1.24.3 in d:\\anaconda\\lib\\site-packages (from tensorflow-intel==2.18.0->tensorflow) (1.70.0)\n",
      "Requirement already satisfied: tensorboard<2.19,>=2.18 in d:\\anaconda\\lib\\site-packages (from tensorflow-intel==2.18.0->tensorflow) (2.18.0)\n",
      "Requirement already satisfied: keras>=3.5.0 in d:\\anaconda\\lib\\site-packages (from tensorflow-intel==2.18.0->tensorflow) (3.8.0)\n",
      "Requirement already satisfied: numpy<2.1.0,>=1.26.0 in d:\\anaconda\\lib\\site-packages (from tensorflow-intel==2.18.0->tensorflow) (1.26.4)\n",
      "Requirement already satisfied: h5py>=3.11.0 in d:\\anaconda\\lib\\site-packages (from tensorflow-intel==2.18.0->tensorflow) (3.11.0)\n",
      "Requirement already satisfied: ml-dtypes<0.5.0,>=0.4.0 in d:\\anaconda\\lib\\site-packages (from tensorflow-intel==2.18.0->tensorflow) (0.4.1)\n",
      "Requirement already satisfied: wheel<1.0,>=0.23.0 in d:\\anaconda\\lib\\site-packages (from astunparse>=1.6.0->tensorflow-intel==2.18.0->tensorflow) (0.43.0)\n",
      "Requirement already satisfied: rich in d:\\anaconda\\lib\\site-packages (from keras>=3.5.0->tensorflow-intel==2.18.0->tensorflow) (13.3.5)\n",
      "Requirement already satisfied: namex in d:\\anaconda\\lib\\site-packages (from keras>=3.5.0->tensorflow-intel==2.18.0->tensorflow) (0.0.8)\n",
      "Requirement already satisfied: optree in d:\\anaconda\\lib\\site-packages (from keras>=3.5.0->tensorflow-intel==2.18.0->tensorflow) (0.14.0)\n",
      "Requirement already satisfied: charset-normalizer<4,>=2 in d:\\anaconda\\lib\\site-packages (from requests<3,>=2.21.0->tensorflow-intel==2.18.0->tensorflow) (2.0.4)\n",
      "Requirement already satisfied: idna<4,>=2.5 in d:\\anaconda\\lib\\site-packages (from requests<3,>=2.21.0->tensorflow-intel==2.18.0->tensorflow) (3.7)\n",
      "Requirement already satisfied: urllib3<3,>=1.21.1 in d:\\anaconda\\lib\\site-packages (from requests<3,>=2.21.0->tensorflow-intel==2.18.0->tensorflow) (2.2.2)\n",
      "Requirement already satisfied: certifi>=2017.4.17 in d:\\anaconda\\lib\\site-packages (from requests<3,>=2.21.0->tensorflow-intel==2.18.0->tensorflow) (2025.1.31)\n",
      "Requirement already satisfied: markdown>=2.6.8 in d:\\anaconda\\lib\\site-packages (from tensorboard<2.19,>=2.18->tensorflow-intel==2.18.0->tensorflow) (3.4.1)\n",
      "Requirement already satisfied: tensorboard-data-server<0.8.0,>=0.7.0 in d:\\anaconda\\lib\\site-packages (from tensorboard<2.19,>=2.18->tensorflow-intel==2.18.0->tensorflow) (0.7.2)\n",
      "Requirement already satisfied: werkzeug>=1.0.1 in d:\\anaconda\\lib\\site-packages (from tensorboard<2.19,>=2.18->tensorflow-intel==2.18.0->tensorflow) (3.0.3)\n",
      "Requirement already satisfied: MarkupSafe>=2.1.1 in d:\\anaconda\\lib\\site-packages (from werkzeug>=1.0.1->tensorboard<2.19,>=2.18->tensorflow-intel==2.18.0->tensorflow) (2.1.3)\n",
      "Requirement already satisfied: markdown-it-py<3.0.0,>=2.2.0 in d:\\anaconda\\lib\\site-packages (from rich->keras>=3.5.0->tensorflow-intel==2.18.0->tensorflow) (2.2.0)\n",
      "Requirement already satisfied: pygments<3.0.0,>=2.13.0 in d:\\anaconda\\lib\\site-packages (from rich->keras>=3.5.0->tensorflow-intel==2.18.0->tensorflow) (2.15.1)\n",
      "Requirement already satisfied: mdurl~=0.1 in d:\\anaconda\\lib\\site-packages (from markdown-it-py<3.0.0,>=2.2.0->rich->keras>=3.5.0->tensorflow-intel==2.18.0->tensorflow) (0.1.0)\n",
      "Note: you may need to restart the kernel to use updated packages.\n"
     ]
    }
   ],
   "source": [
    "pip install tensorflow"
   ]
  },
  {
   "cell_type": "code",
   "execution_count": 15,
   "metadata": {},
   "outputs": [
    {
     "name": "stdout",
     "output_type": "stream",
     "text": [
      "Train Images Shape:  (60000, 28, 28)\n",
      "Train Labels Shape:  (60000,)\n",
      "Test Images Shape:  (10000, 28, 28)\n",
      "Test Labels Shape:  (10000,)\n"
     ]
    }
   ],
   "source": [
    "from tensorflow.keras.datasets import mnist\n",
    "from tensorflow.keras.utils import to_categorical\n",
    "import numpy as np\n",
    "import matplotlib.pyplot as plt\n",
    "\n",
    "(train_images, train_labels), (test_images, test_labels)= mnist.load_data()\n",
    "\n",
    "#Check data dimensions\n",
    "\n",
    "print(\"Train Images Shape: \", train_images.shape)\n",
    "print(\"Train Labels Shape: \", train_labels.shape)\n",
    "print(\"Test Images Shape: \", test_images.shape)\n",
    "print(\"Test Labels Shape: \", test_labels.shape)"
   ]
  },
  {
   "cell_type": "markdown",
   "metadata": {},
   "source": [
    "### Data pre-processing\n",
    "\n",
    "**Multi-class Classification problem => One-hot encoding of outputs**"
   ]
  },
  {
   "cell_type": "code",
   "execution_count": 17,
   "metadata": {},
   "outputs": [
    {
     "data": {
      "text/plain": [
       "\n",
       "IPython -- An enhanced Interactive Python\n",
       "=========================================\n",
       "\n",
       "IPython offers a fully compatible replacement for the standard Python\n",
       "interpreter, with convenient shell features, special commands, command\n",
       "history mechanism and output results caching.\n",
       "\n",
       "At your system command line, type 'ipython -h' to see the command line\n",
       "options available. This document only describes interactive features.\n",
       "\n",
       "GETTING HELP\n",
       "------------\n",
       "\n",
       "Within IPython you have various way to access help:\n",
       "\n",
       "  ?         -> Introduction and overview of IPython's features (this screen).\n",
       "  object?   -> Details about 'object'.\n",
       "  object??  -> More detailed, verbose information about 'object'.\n",
       "  %quickref -> Quick reference of all IPython specific syntax and magics.\n",
       "  help      -> Access Python's own help system.\n",
       "\n",
       "If you are in terminal IPython you can quit this screen by pressing `q`.\n",
       "\n",
       "\n",
       "MAIN FEATURES\n",
       "-------------\n",
       "\n",
       "* Access to the standard Python help with object docstrings and the Python\n",
       "  manuals. Simply type 'help' (no quotes) to invoke it.\n",
       "\n",
       "* Magic commands: type %magic for information on the magic subsystem.\n",
       "\n",
       "* System command aliases, via the %alias command or the configuration file(s).\n",
       "\n",
       "* Dynamic object information:\n",
       "\n",
       "  Typing ?word or word? prints detailed information about an object. Certain\n",
       "  long strings (code, etc.) get snipped in the center for brevity.\n",
       "\n",
       "  Typing ??word or word?? gives access to the full information without\n",
       "  snipping long strings. Strings that are longer than the screen are printed\n",
       "  through the less pager.\n",
       "\n",
       "  The ?/?? system gives access to the full source code for any object (if\n",
       "  available), shows function prototypes and other useful information.\n",
       "\n",
       "  If you just want to see an object's docstring, type '%pdoc object' (without\n",
       "  quotes, and without % if you have automagic on).\n",
       "\n",
       "* Tab completion in the local namespace:\n",
       "\n",
       "  At any time, hitting tab will complete any available python commands or\n",
       "  variable names, and show you a list of the possible completions if there's\n",
       "  no unambiguous one. It will also complete filenames in the current directory.\n",
       "\n",
       "* Search previous command history in multiple ways:\n",
       "\n",
       "  - Start typing, and then use arrow keys up/down or (Ctrl-p/Ctrl-n) to search\n",
       "    through the history items that match what you've typed so far.\n",
       "\n",
       "  - Hit Ctrl-r: opens a search prompt. Begin typing and the system searches\n",
       "    your history for lines that match what you've typed so far, completing as\n",
       "    much as it can.\n",
       "\n",
       "  - %hist: search history by index.\n",
       "\n",
       "* Persistent command history across sessions.\n",
       "\n",
       "* Logging of input with the ability to save and restore a working session.\n",
       "\n",
       "* System shell with !. Typing !ls will run 'ls' in the current directory.\n",
       "\n",
       "* The reload command does a 'deep' reload of a module: changes made to the\n",
       "  module since you imported will actually be available without having to exit.\n",
       "\n",
       "* Verbose and colored exception traceback printouts. See the magic xmode and\n",
       "  xcolor functions for details (just type %magic).\n",
       "\n",
       "* Input caching system:\n",
       "\n",
       "  IPython offers numbered prompts (In/Out) with input and output caching. All\n",
       "  input is saved and can be retrieved as variables (besides the usual arrow\n",
       "  key recall).\n",
       "\n",
       "  The following GLOBAL variables always exist (so don't overwrite them!):\n",
       "  _i: stores previous input.\n",
       "  _ii: next previous.\n",
       "  _iii: next-next previous.\n",
       "  _ih : a list of all input _ih[n] is the input from line n.\n",
       "\n",
       "  Additionally, global variables named _i<n> are dynamically created (<n>\n",
       "  being the prompt counter), such that _i<n> == _ih[<n>]\n",
       "\n",
       "  For example, what you typed at prompt 14 is available as _i14 and _ih[14].\n",
       "\n",
       "  You can create macros which contain multiple input lines from this history,\n",
       "  for later re-execution, with the %macro function.\n",
       "\n",
       "  The history function %hist allows you to see any part of your input history\n",
       "  by printing a range of the _i variables. Note that inputs which contain\n",
       "  magic functions (%) appear in the history with a prepended comment. This is\n",
       "  because they aren't really valid Python code, so you can't exec them.\n",
       "\n",
       "* Output caching system:\n",
       "\n",
       "  For output that is returned from actions, a system similar to the input\n",
       "  cache exists but using _ instead of _i. Only actions that produce a result\n",
       "  (NOT assignments, for example) are cached. If you are familiar with\n",
       "  Mathematica, IPython's _ variables behave exactly like Mathematica's %\n",
       "  variables.\n",
       "\n",
       "  The following GLOBAL variables always exist (so don't overwrite them!):\n",
       "  _ (one underscore): previous output.\n",
       "  __ (two underscores): next previous.\n",
       "  ___ (three underscores): next-next previous.\n",
       "\n",
       "  Global variables named _<n> are dynamically created (<n> being the prompt\n",
       "  counter), such that the result of output <n> is always available as _<n>.\n",
       "\n",
       "  Finally, a global dictionary named _oh exists with entries for all lines\n",
       "  which generated output.\n",
       "\n",
       "* Directory history:\n",
       "\n",
       "  Your history of visited directories is kept in the global list _dh, and the\n",
       "  magic %cd command can be used to go to any entry in that list.\n",
       "\n",
       "* Auto-parentheses and auto-quotes (adapted from Nathan Gray's LazyPython)\n",
       "\n",
       "  1. Auto-parentheses\n",
       "        \n",
       "     Callable objects (i.e. functions, methods, etc) can be invoked like\n",
       "     this (notice the commas between the arguments)::\n",
       "       \n",
       "         In [1]: callable_ob arg1, arg2, arg3\n",
       "       \n",
       "     and the input will be translated to this::\n",
       "       \n",
       "         callable_ob(arg1, arg2, arg3)\n",
       "       \n",
       "     This feature is off by default (in rare cases it can produce\n",
       "     undesirable side-effects), but you can activate it at the command-line\n",
       "     by starting IPython with `--autocall 1`, set it permanently in your\n",
       "     configuration file, or turn on at runtime with `%autocall 1`.\n",
       "\n",
       "     You can force auto-parentheses by using '/' as the first character\n",
       "     of a line.  For example::\n",
       "       \n",
       "          In [1]: /globals             # becomes 'globals()'\n",
       "       \n",
       "     Note that the '/' MUST be the first character on the line!  This\n",
       "     won't work::\n",
       "       \n",
       "          In [2]: print /globals    # syntax error\n",
       "\n",
       "     In most cases the automatic algorithm should work, so you should\n",
       "     rarely need to explicitly invoke /. One notable exception is if you\n",
       "     are trying to call a function with a list of tuples as arguments (the\n",
       "     parenthesis will confuse IPython)::\n",
       "       \n",
       "          In [1]: zip (1,2,3),(4,5,6)  # won't work\n",
       "       \n",
       "     but this will work::\n",
       "       \n",
       "          In [2]: /zip (1,2,3),(4,5,6)\n",
       "          ------> zip ((1,2,3),(4,5,6))\n",
       "          Out[2]= [(1, 4), (2, 5), (3, 6)]\n",
       "\n",
       "     IPython tells you that it has altered your command line by\n",
       "     displaying the new command line preceded by -->.  e.g.::\n",
       "       \n",
       "          In [18]: callable list\n",
       "          -------> callable (list)\n",
       "\n",
       "  2. Auto-Quoting\n",
       "    \n",
       "     You can force auto-quoting of a function's arguments by using ',' as\n",
       "     the first character of a line.  For example::\n",
       "       \n",
       "          In [1]: ,my_function /home/me   # becomes my_function(\"/home/me\")\n",
       "\n",
       "     If you use ';' instead, the whole argument is quoted as a single\n",
       "     string (while ',' splits on whitespace)::\n",
       "       \n",
       "          In [2]: ,my_function a b c   # becomes my_function(\"a\",\"b\",\"c\")\n",
       "          In [3]: ;my_function a b c   # becomes my_function(\"a b c\")\n",
       "\n",
       "     Note that the ',' MUST be the first character on the line!  This\n",
       "     won't work::\n",
       "       \n",
       "          In [4]: x = ,my_function /home/me    # syntax error\n"
      ]
     },
     "metadata": {},
     "output_type": "display_data"
    }
   ],
   "source": [
    "# Reshape to make the images into 1D vector  for each example\n",
    "train_images = train_images.reshape((60000, 28 * 28))\n",
    "\n",
    "#Standardize values /255\n",
    "train_images = train_images.astype('float32') / 255\n",
    "\n",
    "#Convert outputs (check what happens with the labels ?)\n",
    "train_labels = to_categorical(train_labels)\n",
    "\n",
    "#Do the same for the test data\n",
    "\n",
    "?\n",
    "test_images = test_images.reshape((10000, 28 * 28))\n",
    "\n",
    "test_images = test_images.astype('float32') / 255\n",
    "\n",
    "test_labels = to_categorical(test_labels)"
   ]
  },
  {
   "cell_type": "code",
   "execution_count": 19,
   "metadata": {
    "scrolled": true
   },
   "outputs": [
    {
     "name": "stdout",
     "output_type": "stream",
     "text": [
      "[[0. 0. 0. 0. 0. 1. 0. 0. 0. 0.]\n",
      " [1. 0. 0. 0. 0. 0. 0. 0. 0. 0.]\n",
      " [0. 0. 0. 0. 1. 0. 0. 0. 0. 0.]\n",
      " [0. 1. 0. 0. 0. 0. 0. 0. 0. 0.]\n",
      " [0. 0. 0. 0. 0. 0. 0. 0. 0. 1.]\n",
      " [0. 0. 1. 0. 0. 0. 0. 0. 0. 0.]\n",
      " [0. 1. 0. 0. 0. 0. 0. 0. 0. 0.]\n",
      " [0. 0. 0. 1. 0. 0. 0. 0. 0. 0.]\n",
      " [0. 1. 0. 0. 0. 0. 0. 0. 0. 0.]\n",
      " [0. 0. 0. 0. 1. 0. 0. 0. 0. 0.]]\n"
     ]
    }
   ],
   "source": [
    "print(train_labels[:10])"
   ]
  },
  {
   "cell_type": "markdown",
   "metadata": {},
   "source": [
    "### Model structure (feedforward Neural Network - FFNN)"
   ]
  },
  {
   "cell_type": "code",
   "execution_count": 21,
   "metadata": {},
   "outputs": [
    {
     "name": "stderr",
     "output_type": "stream",
     "text": [
      "D:\\Anaconda\\Lib\\site-packages\\keras\\src\\layers\\core\\dense.py:87: UserWarning: Do not pass an `input_shape`/`input_dim` argument to a layer. When using Sequential models, prefer using an `Input(shape)` object as the first layer in the model instead.\n",
      "  super().__init__(activity_regularizer=activity_regularizer, **kwargs)\n"
     ]
    },
    {
     "data": {
      "text/html": [
       "<pre style=\"white-space:pre;overflow-x:auto;line-height:normal;font-family:Menlo,'DejaVu Sans Mono',consolas,'Courier New',monospace\"><span style=\"font-weight: bold\">Model: \"sequential\"</span>\n",
       "</pre>\n"
      ],
      "text/plain": [
       "\u001b[1mModel: \"sequential\"\u001b[0m\n"
      ]
     },
     "metadata": {},
     "output_type": "display_data"
    },
    {
     "data": {
      "text/html": [
       "<pre style=\"white-space:pre;overflow-x:auto;line-height:normal;font-family:Menlo,'DejaVu Sans Mono',consolas,'Courier New',monospace\">┏━━━━━━━━━━━━━━━━━━━━━━━━━━━━━━━━━┳━━━━━━━━━━━━━━━━━━━━━━━━┳━━━━━━━━━━━━━━━┓\n",
       "┃<span style=\"font-weight: bold\"> Layer (type)                    </span>┃<span style=\"font-weight: bold\"> Output Shape           </span>┃<span style=\"font-weight: bold\">       Param # </span>┃\n",
       "┡━━━━━━━━━━━━━━━━━━━━━━━━━━━━━━━━━╇━━━━━━━━━━━━━━━━━━━━━━━━╇━━━━━━━━━━━━━━━┩\n",
       "│ dense (<span style=\"color: #0087ff; text-decoration-color: #0087ff\">Dense</span>)                   │ (<span style=\"color: #00d7ff; text-decoration-color: #00d7ff\">None</span>, <span style=\"color: #00af00; text-decoration-color: #00af00\">512</span>)            │       <span style=\"color: #00af00; text-decoration-color: #00af00\">401,920</span> │\n",
       "├─────────────────────────────────┼────────────────────────┼───────────────┤\n",
       "│ dense_1 (<span style=\"color: #0087ff; text-decoration-color: #0087ff\">Dense</span>)                 │ (<span style=\"color: #00d7ff; text-decoration-color: #00d7ff\">None</span>, <span style=\"color: #00af00; text-decoration-color: #00af00\">10</span>)             │         <span style=\"color: #00af00; text-decoration-color: #00af00\">5,130</span> │\n",
       "└─────────────────────────────────┴────────────────────────┴───────────────┘\n",
       "</pre>\n"
      ],
      "text/plain": [
       "┏━━━━━━━━━━━━━━━━━━━━━━━━━━━━━━━━━┳━━━━━━━━━━━━━━━━━━━━━━━━┳━━━━━━━━━━━━━━━┓\n",
       "┃\u001b[1m \u001b[0m\u001b[1mLayer (type)                   \u001b[0m\u001b[1m \u001b[0m┃\u001b[1m \u001b[0m\u001b[1mOutput Shape          \u001b[0m\u001b[1m \u001b[0m┃\u001b[1m \u001b[0m\u001b[1m      Param #\u001b[0m\u001b[1m \u001b[0m┃\n",
       "┡━━━━━━━━━━━━━━━━━━━━━━━━━━━━━━━━━╇━━━━━━━━━━━━━━━━━━━━━━━━╇━━━━━━━━━━━━━━━┩\n",
       "│ dense (\u001b[38;5;33mDense\u001b[0m)                   │ (\u001b[38;5;45mNone\u001b[0m, \u001b[38;5;34m512\u001b[0m)            │       \u001b[38;5;34m401,920\u001b[0m │\n",
       "├─────────────────────────────────┼────────────────────────┼───────────────┤\n",
       "│ dense_1 (\u001b[38;5;33mDense\u001b[0m)                 │ (\u001b[38;5;45mNone\u001b[0m, \u001b[38;5;34m10\u001b[0m)             │         \u001b[38;5;34m5,130\u001b[0m │\n",
       "└─────────────────────────────────┴────────────────────────┴───────────────┘\n"
      ]
     },
     "metadata": {},
     "output_type": "display_data"
    },
    {
     "data": {
      "text/html": [
       "<pre style=\"white-space:pre;overflow-x:auto;line-height:normal;font-family:Menlo,'DejaVu Sans Mono',consolas,'Courier New',monospace\"><span style=\"font-weight: bold\"> Total params: </span><span style=\"color: #00af00; text-decoration-color: #00af00\">407,050</span> (1.55 MB)\n",
       "</pre>\n"
      ],
      "text/plain": [
       "\u001b[1m Total params: \u001b[0m\u001b[38;5;34m407,050\u001b[0m (1.55 MB)\n"
      ]
     },
     "metadata": {},
     "output_type": "display_data"
    },
    {
     "data": {
      "text/html": [
       "<pre style=\"white-space:pre;overflow-x:auto;line-height:normal;font-family:Menlo,'DejaVu Sans Mono',consolas,'Courier New',monospace\"><span style=\"font-weight: bold\"> Trainable params: </span><span style=\"color: #00af00; text-decoration-color: #00af00\">407,050</span> (1.55 MB)\n",
       "</pre>\n"
      ],
      "text/plain": [
       "\u001b[1m Trainable params: \u001b[0m\u001b[38;5;34m407,050\u001b[0m (1.55 MB)\n"
      ]
     },
     "metadata": {},
     "output_type": "display_data"
    },
    {
     "data": {
      "text/html": [
       "<pre style=\"white-space:pre;overflow-x:auto;line-height:normal;font-family:Menlo,'DejaVu Sans Mono',consolas,'Courier New',monospace\"><span style=\"font-weight: bold\"> Non-trainable params: </span><span style=\"color: #00af00; text-decoration-color: #00af00\">0</span> (0.00 B)\n",
       "</pre>\n"
      ],
      "text/plain": [
       "\u001b[1m Non-trainable params: \u001b[0m\u001b[38;5;34m0\u001b[0m (0.00 B)\n"
      ]
     },
     "metadata": {},
     "output_type": "display_data"
    }
   ],
   "source": [
    "from tensorflow.keras import models\n",
    "from tensorflow.keras import layers\n",
    "\n",
    "network = models.Sequential()\n",
    "\n",
    "#One hidden layer with 512 neurons (RelU)\n",
    "network.add(layers.Dense(512, activation='relu', \n",
    "                         input_shape=(28 * 28,)))\n",
    "\n",
    "# Output layer with 10 neurons\n",
    "# (softmax = 1 neuron w/ sigmoid function for each class;one-hot encoding )\n",
    "network.add(layers.Dense(10, activation='softmax'))\n",
    "\n",
    "network.summary()\n"
   ]
  },
  {
   "cell_type": "markdown",
   "metadata": {},
   "source": [
    "### NN training"
   ]
  },
  {
   "cell_type": "code",
   "execution_count": 23,
   "metadata": {},
   "outputs": [
    {
     "name": "stdout",
     "output_type": "stream",
     "text": [
      "Epoch 1/15\n",
      "\u001b[1m469/469\u001b[0m \u001b[32m━━━━━━━━━━━━━━━━━━━━\u001b[0m\u001b[37m\u001b[0m \u001b[1m5s\u001b[0m 8ms/step - accuracy: 0.8734 - loss: 0.4359\n",
      "Epoch 2/15\n",
      "\u001b[1m469/469\u001b[0m \u001b[32m━━━━━━━━━━━━━━━━━━━━\u001b[0m\u001b[37m\u001b[0m \u001b[1m4s\u001b[0m 8ms/step - accuracy: 0.9677 - loss: 0.1107\n",
      "Epoch 3/15\n",
      "\u001b[1m469/469\u001b[0m \u001b[32m━━━━━━━━━━━━━━━━━━━━\u001b[0m\u001b[37m\u001b[0m \u001b[1m5s\u001b[0m 10ms/step - accuracy: 0.9792 - loss: 0.0693\n",
      "Epoch 4/15\n",
      "\u001b[1m469/469\u001b[0m \u001b[32m━━━━━━━━━━━━━━━━━━━━\u001b[0m\u001b[37m\u001b[0m \u001b[1m5s\u001b[0m 9ms/step - accuracy: 0.9856 - loss: 0.0486\n",
      "Epoch 5/15\n",
      "\u001b[1m469/469\u001b[0m \u001b[32m━━━━━━━━━━━━━━━━━━━━\u001b[0m\u001b[37m\u001b[0m \u001b[1m5s\u001b[0m 8ms/step - accuracy: 0.9888 - loss: 0.0378\n",
      "Epoch 6/15\n",
      "\u001b[1m469/469\u001b[0m \u001b[32m━━━━━━━━━━━━━━━━━━━━\u001b[0m\u001b[37m\u001b[0m \u001b[1m4s\u001b[0m 8ms/step - accuracy: 0.9923 - loss: 0.0265\n",
      "Epoch 7/15\n",
      "\u001b[1m469/469\u001b[0m \u001b[32m━━━━━━━━━━━━━━━━━━━━\u001b[0m\u001b[37m\u001b[0m \u001b[1m5s\u001b[0m 8ms/step - accuracy: 0.9941 - loss: 0.0204\n",
      "Epoch 8/15\n",
      "\u001b[1m469/469\u001b[0m \u001b[32m━━━━━━━━━━━━━━━━━━━━\u001b[0m\u001b[37m\u001b[0m \u001b[1m4s\u001b[0m 8ms/step - accuracy: 0.9963 - loss: 0.0150\n",
      "Epoch 9/15\n",
      "\u001b[1m469/469\u001b[0m \u001b[32m━━━━━━━━━━━━━━━━━━━━\u001b[0m\u001b[37m\u001b[0m \u001b[1m4s\u001b[0m 7ms/step - accuracy: 0.9972 - loss: 0.0114\n",
      "Epoch 10/15\n",
      "\u001b[1m469/469\u001b[0m \u001b[32m━━━━━━━━━━━━━━━━━━━━\u001b[0m\u001b[37m\u001b[0m \u001b[1m4s\u001b[0m 9ms/step - accuracy: 0.9983 - loss: 0.0080\n",
      "Epoch 11/15\n",
      "\u001b[1m469/469\u001b[0m \u001b[32m━━━━━━━━━━━━━━━━━━━━\u001b[0m\u001b[37m\u001b[0m \u001b[1m5s\u001b[0m 10ms/step - accuracy: 0.9990 - loss: 0.0058\n",
      "Epoch 12/15\n",
      "\u001b[1m469/469\u001b[0m \u001b[32m━━━━━━━━━━━━━━━━━━━━\u001b[0m\u001b[37m\u001b[0m \u001b[1m4s\u001b[0m 9ms/step - accuracy: 0.9989 - loss: 0.0050\n",
      "Epoch 13/15\n",
      "\u001b[1m469/469\u001b[0m \u001b[32m━━━━━━━━━━━━━━━━━━━━\u001b[0m\u001b[37m\u001b[0m \u001b[1m4s\u001b[0m 8ms/step - accuracy: 0.9994 - loss: 0.0033\n",
      "Epoch 14/15\n",
      "\u001b[1m469/469\u001b[0m \u001b[32m━━━━━━━━━━━━━━━━━━━━\u001b[0m\u001b[37m\u001b[0m \u001b[1m6s\u001b[0m 10ms/step - accuracy: 0.9997 - loss: 0.0022\n",
      "Epoch 15/15\n",
      "\u001b[1m469/469\u001b[0m \u001b[32m━━━━━━━━━━━━━━━━━━━━\u001b[0m\u001b[37m\u001b[0m \u001b[1m5s\u001b[0m 9ms/step - accuracy: 1.0000 - loss: 0.0011\n"
     ]
    }
   ],
   "source": [
    "network.compile(optimizer='rmsprop',\n",
    "                loss='categorical_crossentropy',\n",
    "                metrics=['accuracy'])\n",
    "\n",
    "#train the model (fit)\n",
    "history= network.fit(train_images, train_labels, epochs=15, batch_size=128)"
   ]
  },
  {
   "cell_type": "code",
   "execution_count": 27,
   "metadata": {},
   "outputs": [
    {
     "data": {
      "image/png": "[encoded data removed]",
      "text/plain": [
       "<Figure size 640x480 with 1 Axes>"
      ]
     },
     "metadata": {},
     "output_type": "display_data"
    },
    {
     "data": {
      "image/png": "[encoded data removed]",
      "text/plain": [
       "<Figure size 640x480 with 1 Axes>"
      ]
     },
     "metadata": {},
     "output_type": "display_data"
    },
    {
     "data": {
      "text/plain": [
       "(Text(0.5, 24.0, 'Epochs'),\n",
       " Text(24.000000000000007, 0.5, 'Acc'),\n",
       " <matplotlib.legend.Legend at 0x2f807621e80>,\n",
       " None)"
      ]
     },
     "execution_count": 27,
     "metadata": {},
     "output_type": "execute_result"
    }
   ],
   "source": [
    "#history_dict = history.history\n",
    "acc_values = history.history['accuracy'] \n",
    "loss_values = history.history['loss'] \n",
    "\n",
    "epochs = range(1, len(acc_values) + 1)\n",
    "\n",
    "\n",
    "plt.plot(epochs, acc_values, 'b', label='Training acc')\n",
    "plt.title('Training accuracy')\n",
    "plt.xlabel('Epochs'), plt.ylabel('Acc'), plt.legend(),plt.show()\n",
    "\n",
    "\n",
    "#Plot the training loss\n",
    "\n",
    "plt.plot(epochs, loss_values, 'b', label='Training loss')\n",
    "plt.title('Training loss')\n",
    "plt.xlabel('Epochs'), plt.ylabel('Acc'), plt.legend(),plt.show()"
   ]
  },
  {
   "cell_type": "code",
   "execution_count": 33,
   "metadata": {},
   "outputs": [
    {
     "name": "stdout",
     "output_type": "stream",
     "text": [
      "\u001b[1m313/313\u001b[0m \u001b[32m━━━━━━━━━━━━━━━━━━━━\u001b[0m\u001b[37m\u001b[0m \u001b[1m1s\u001b[0m 3ms/step\n",
      "(10000, 10)\n"
     ]
    }
   ],
   "source": [
    "#What is the result of this line of code ?\n",
    "\n",
    "test_preds = network.predict(test_images)\n",
    "\n",
    "print(test_preds.shape)"
   ]
  },
  {
   "cell_type": "code",
   "execution_count": 35,
   "metadata": {},
   "outputs": [
    {
     "name": "stdout",
     "output_type": "stream",
     "text": [
      "\u001b[1m313/313\u001b[0m \u001b[32m━━━━━━━━━━━━━━━━━━━━\u001b[0m\u001b[37m\u001b[0m \u001b[1m1s\u001b[0m 3ms/step\n",
      "[7 2 1 ... 4 5 6]\n"
     ]
    }
   ],
   "source": [
    "#What is the result of this line of code ?\n",
    "\n",
    "test_classes = np.argmax(network.predict(test_images), axis=-1)\n",
    "\n",
    "print(test_classes)"
   ]
  },
  {
   "cell_type": "code",
   "execution_count": 39,
   "metadata": {},
   "outputs": [
    {
     "name": "stdout",
     "output_type": "stream",
     "text": [
      "\u001b[1m313/313\u001b[0m \u001b[32m━━━━━━━━━━━━━━━━━━━━\u001b[0m\u001b[37m\u001b[0m \u001b[1m1s\u001b[0m 4ms/step - accuracy: 0.9783 - loss: 0.0823\n",
      "0.06617780029773712 0.982200026512146\n",
      "\u001b[1m1875/1875\u001b[0m \u001b[32m━━━━━━━━━━━━━━━━━━━━\u001b[0m\u001b[37m\u001b[0m \u001b[1m7s\u001b[0m 4ms/step - accuracy: 0.9997 - loss: 0.0015\n",
      "0.0014472343027591705 0.9998166561126709\n"
     ]
    }
   ],
   "source": [
    "test_loss, test_acc = network.evaluate(test_images, test_labels)\n",
    "\n",
    "print(test_loss, test_acc)\n",
    "#Compare the test and train loss and accuracy \n",
    "\n",
    "train_loss, train_acc = network.evaluate(train_images, train_labels)\n",
    "\n",
    "print(train_loss, train_acc)"
   ]
  },
  {
   "cell_type": "code",
   "execution_count": null,
   "metadata": {},
   "outputs": [],
   "source": []
  }
 ],
 "metadata": {
  "kernelspec": {
   "display_name": "Python 3 (ipykernel)",
   "language": "python",
   "name": "python3"
  },
  "language_info": {
   "codemirror_mode": {
    "name": "ipython",
    "version": 3
   },
   "file_extension": ".py",
   "mimetype": "text/x-python",
   "name": "python",
   "nbconvert_exporter": "python",
   "pygments_lexer": "ipython3",
   "version": "3.12.4"
  }
 },
 "nbformat": 4,
 "nbformat_minor": 4
}
